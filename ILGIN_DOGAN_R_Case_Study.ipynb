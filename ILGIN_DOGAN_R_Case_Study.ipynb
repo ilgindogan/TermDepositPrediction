{
  "nbformat": 4,
  "nbformat_minor": 0,
  "metadata": {
    "kernelspec": {
      "display_name": "R",
      "language": "R",
      "name": "ir"
    },
    "language_info": {
      "codemirror_mode": "r",
      "file_extension": ".r",
      "mimetype": "text/x-r-source",
      "name": "R",
      "pygments_lexer": "r",
      "version": "3.6.1"
    },
    "colab": {
      "name": "ILGIN_DOGAN_R_Case_Study.ipynb",
      "provenance": [],
      "include_colab_link": true
    }
  },
  "cells": [
    {
      "cell_type": "markdown",
      "metadata": {
        "id": "view-in-github",
        "colab_type": "text"
      },
      "source": [
        "<a href=\"https://colab.research.google.com/github/ilgindogan/TermDepositPrediction/blob/master/ILGIN_DOGAN_R_Case_Study.ipynb\" target=\"_parent\"><img src=\"https://colab.research.google.com/assets/colab-badge.svg\" alt=\"Open In Colab\"/></a>"
      ]
    },
    {
      "cell_type": "markdown",
      "metadata": {
        "id": "H1Z-1X_W_eKL",
        "colab_type": "text"
      },
      "source": [
        "##### ILGIN DOĞAN R CASE STUDY\n"
      ]
    },
    {
      "cell_type": "code",
      "metadata": {
        "id": "YCqPrnTp_eKN",
        "colab_type": "code",
        "colab": {}
      },
      "source": [
        "library(rpart)\n",
        "library(caret)\n",
        "library(AppliedPredictiveModeling)"
      ],
      "execution_count": null,
      "outputs": []
    },
    {
      "cell_type": "code",
      "metadata": {
        "id": "hqTkoMfh_eKS",
        "colab_type": "code",
        "colab": {},
        "outputId": "41d87aff-a20b-494e-ded9-ccace020433c"
      },
      "source": [
        "getwd()"
      ],
      "execution_count": null,
      "outputs": [
        {
          "output_type": "display_data",
          "data": {
            "text/html": [
              "'C:/Users/MONSTER'"
            ],
            "text/latex": "'C:/Users/MONSTER'",
            "text/markdown": "'C:/Users/MONSTER'",
            "text/plain": [
              "[1] \"C:/Users/MONSTER\""
            ]
          },
          "metadata": {
            "tags": []
          }
        }
      ]
    },
    {
      "cell_type": "markdown",
      "metadata": {
        "id": "KG2v2Xxp_eKW",
        "colab_type": "text"
      },
      "source": [
        "##### getwd gives path,this path will set using setwd for reading csv file !! "
      ]
    },
    {
      "cell_type": "code",
      "metadata": {
        "id": "R6p0aiId_eKX",
        "colab_type": "code",
        "colab": {}
      },
      "source": [
        "setwd(\"C:/Users/MONSTER/\")"
      ],
      "execution_count": null,
      "outputs": []
    },
    {
      "cell_type": "markdown",
      "metadata": {
        "id": "gzLxSsOd_eKa",
        "colab_type": "text"
      },
      "source": [
        "##### csv file in users/monster but you should be change your directory which come with getwd"
      ]
    },
    {
      "cell_type": "code",
      "metadata": {
        "id": "aAQ2MW4__eKb",
        "colab_type": "code",
        "colab": {}
      },
      "source": [
        "bank<-read.csv(\"term-deposit-marketing-2020.csv\",header=TRUE)"
      ],
      "execution_count": null,
      "outputs": []
    },
    {
      "cell_type": "code",
      "metadata": {
        "id": "N42yvSJy_eKd",
        "colab_type": "code",
        "colab": {},
        "outputId": "3407555a-827e-47bd-f6e9-ee5f14b4cbac"
      },
      "source": [
        "names(bank)\n"
      ],
      "execution_count": null,
      "outputs": [
        {
          "output_type": "display_data",
          "data": {
            "text/html": [
              "<ol class=list-inline>\n",
              "\t<li>'age'</li>\n",
              "\t<li>'job'</li>\n",
              "\t<li>'marital'</li>\n",
              "\t<li>'education'</li>\n",
              "\t<li>'default'</li>\n",
              "\t<li>'balance'</li>\n",
              "\t<li>'housing'</li>\n",
              "\t<li>'loan'</li>\n",
              "\t<li>'contact'</li>\n",
              "\t<li>'day'</li>\n",
              "\t<li>'month'</li>\n",
              "\t<li>'duration'</li>\n",
              "\t<li>'campaign'</li>\n",
              "\t<li>'y'</li>\n",
              "</ol>\n"
            ],
            "text/latex": "\\begin{enumerate*}\n\\item 'age'\n\\item 'job'\n\\item 'marital'\n\\item 'education'\n\\item 'default'\n\\item 'balance'\n\\item 'housing'\n\\item 'loan'\n\\item 'contact'\n\\item 'day'\n\\item 'month'\n\\item 'duration'\n\\item 'campaign'\n\\item 'y'\n\\end{enumerate*}\n",
            "text/markdown": "1. 'age'\n2. 'job'\n3. 'marital'\n4. 'education'\n5. 'default'\n6. 'balance'\n7. 'housing'\n8. 'loan'\n9. 'contact'\n10. 'day'\n11. 'month'\n12. 'duration'\n13. 'campaign'\n14. 'y'\n\n\n",
            "text/plain": [
              " [1] \"age\"       \"job\"       \"marital\"   \"education\" \"default\"   \"balance\"  \n",
              " [7] \"housing\"   \"loan\"      \"contact\"   \"day\"       \"month\"     \"duration\" \n",
              "[13] \"campaign\"  \"y\"        "
            ]
          },
          "metadata": {
            "tags": []
          }
        }
      ]
    },
    {
      "cell_type": "code",
      "metadata": {
        "id": "G_yatirb_eKg",
        "colab_type": "code",
        "colab": {},
        "outputId": "f361e305-0f1c-4899-e9c7-7dd8cc32984a"
      },
      "source": [
        "nrow(bank)"
      ],
      "execution_count": null,
      "outputs": [
        {
          "output_type": "display_data",
          "data": {
            "text/html": [
              "40000"
            ],
            "text/latex": "40000",
            "text/markdown": "40000",
            "text/plain": [
              "[1] 40000"
            ]
          },
          "metadata": {
            "tags": []
          }
        }
      ]
    },
    {
      "cell_type": "code",
      "metadata": {
        "id": "TwZ_Xvtd_eKk",
        "colab_type": "code",
        "colab": {},
        "outputId": "6d03712c-dcb1-4600-e4ea-dbff66ece59e"
      },
      "source": [
        "str(bank)"
      ],
      "execution_count": null,
      "outputs": [
        {
          "output_type": "stream",
          "text": [
            "'data.frame':\t40000 obs. of  14 variables:\n",
            " $ age      : int  58 44 33 47 33 35 28 42 58 43 ...\n",
            " $ job      : Factor w/ 12 levels \"admin\",\"blue-collar\",..: 5 10 3 2 12 5 5 3 6 10 ...\n",
            " $ marital  : Factor w/ 3 levels \"divorced\",\"married\",..: 2 3 2 2 3 2 3 1 2 3 ...\n",
            " $ education: Factor w/ 4 levels \"primary\",\"secondary\",..: 3 2 2 4 4 3 3 3 1 2 ...\n",
            " $ default  : Factor w/ 2 levels \"no\",\"yes\": 1 1 1 1 1 1 1 2 1 1 ...\n",
            " $ balance  : int  2143 29 2 1506 1 231 447 2 121 593 ...\n",
            " $ housing  : Factor w/ 2 levels \"no\",\"yes\": 2 2 2 2 1 2 2 2 2 2 ...\n",
            " $ loan     : Factor w/ 2 levels \"no\",\"yes\": 1 1 2 1 1 1 2 1 1 1 ...\n",
            " $ contact  : Factor w/ 3 levels \"cellular\",\"telephone\",..: 3 3 3 3 3 3 3 3 3 3 ...\n",
            " $ day      : int  5 5 5 5 5 5 5 5 5 5 ...\n",
            " $ month    : Factor w/ 11 levels \"apr\",\"aug\",\"dec\",..: 9 9 9 9 9 9 9 9 9 9 ...\n",
            " $ duration : int  261 151 76 92 198 139 217 380 50 55 ...\n",
            " $ campaign : int  1 1 1 1 1 1 1 1 1 1 ...\n",
            " $ y        : Factor w/ 2 levels \"no\",\"yes\": 1 1 1 1 1 1 1 1 1 1 ...\n"
          ],
          "name": "stdout"
        }
      ]
    },
    {
      "cell_type": "code",
      "metadata": {
        "id": "RzpEb66b_eKo",
        "colab_type": "code",
        "colab": {}
      },
      "source": [
        "transparentTheme(trans = .4)"
      ],
      "execution_count": null,
      "outputs": []
    },
    {
      "cell_type": "code",
      "metadata": {
        "id": "szHA5bfn_eKr",
        "colab_type": "code",
        "colab": {},
        "outputId": "df549f5d-df39-46cf-ca48-3687cf36109b"
      },
      "source": [
        "featurePlot(x = bank[, c(1,6,12,13)], \n",
        " y = bank$y, \n",
        " plot = \"pairs\",\n",
        " auto.key = list(columns = 2))"
      ],
      "execution_count": null,
      "outputs": [
        {
          "output_type": "display_data",
          "data": {
            "image/png": "[encoded data removed]",
            "text/plain": [
              "plot without title"
            ]
          },
          "metadata": {
            "tags": []
          }
        }
      ]
    },
    {
      "cell_type": "code",
      "metadata": {
        "id": "ijV8RYez_eKt",
        "colab_type": "code",
        "colab": {},
        "outputId": "8379d521-98f0-4013-ecfa-398694d09fca"
      },
      "source": [
        "boxplot(bank$age~bank$y, ylab=\"Age\",xlab=\"y\")"
      ],
      "execution_count": null,
      "outputs": [
        {
          "output_type": "display_data",
          "data": {
            "image/png": "[encoded data removed]",
            "text/plain": [
              "plot without title"
            ]
          },
          "metadata": {
            "tags": []
          }
        }
      ]
    },
    {
      "cell_type": "code",
      "metadata": {
        "id": "msSsL4yo_eKw",
        "colab_type": "code",
        "colab": {},
        "outputId": "9fcaf5bf-426c-479e-bf63-711c27bbd90a"
      },
      "source": [
        "table(bank$y)"
      ],
      "execution_count": null,
      "outputs": [
        {
          "output_type": "display_data",
          "data": {
            "text/plain": [
              "\n",
              "   no   yes \n",
              "37104  2896 "
            ]
          },
          "metadata": {
            "tags": []
          }
        }
      ]
    },
    {
      "cell_type": "code",
      "metadata": {
        "id": "oY5zENrU_eKz",
        "colab_type": "code",
        "colab": {},
        "outputId": "47f34014-6497-4467-f439-4ada3bfe9066"
      },
      "source": [
        "table(bank$y)/nrow(bank)"
      ],
      "execution_count": null,
      "outputs": [
        {
          "output_type": "display_data",
          "data": {
            "text/plain": [
              "\n",
              "    no    yes \n",
              "0.9276 0.0724 "
            ]
          },
          "metadata": {
            "tags": []
          }
        }
      ]
    },
    {
      "cell_type": "code",
      "metadata": {
        "id": "ZsYyEG-D_eK2",
        "colab_type": "code",
        "colab": {}
      },
      "source": [
        "set.seed(999)"
      ],
      "execution_count": null,
      "outputs": []
    },
    {
      "cell_type": "code",
      "metadata": {
        "id": "lYr2uptc_eK4",
        "colab_type": "code",
        "colab": {}
      },
      "source": [
        "trainIndex <- createDataPartition(bank$y, p = .6, \n",
        " list = FALSE, \n",
        " times = 1)"
      ],
      "execution_count": null,
      "outputs": []
    },
    {
      "cell_type": "code",
      "metadata": {
        "id": "bDOwWVt3_eK6",
        "colab_type": "code",
        "colab": {}
      },
      "source": [
        "train <- bank[ trainIndex,]"
      ],
      "execution_count": null,
      "outputs": []
    },
    {
      "cell_type": "code",
      "metadata": {
        "id": "b5fdXqc__eK9",
        "colab_type": "code",
        "colab": {}
      },
      "source": [
        "test <- bank[-trainIndex,]"
      ],
      "execution_count": null,
      "outputs": []
    },
    {
      "cell_type": "code",
      "metadata": {
        "id": "lHSASZn2_eK_",
        "colab_type": "code",
        "colab": {}
      },
      "source": [
        "fitControl <- trainControl(\n",
        " method = \"repeatedcv\",\n",
        " number = 5,\n",
        " repeats = 5)"
      ],
      "execution_count": null,
      "outputs": []
    },
    {
      "cell_type": "code",
      "metadata": {
        "id": "Mq2P-a9C_eLC",
        "colab_type": "code",
        "colab": {}
      },
      "source": [
        "fit <- train(y ~ ., data = train, \n",
        " method = \"rpart\", \n",
        " trControl = fitControl)"
      ],
      "execution_count": null,
      "outputs": []
    },
    {
      "cell_type": "code",
      "metadata": {
        "id": "rtE76Ro0_eLF",
        "colab_type": "code",
        "colab": {},
        "outputId": "462c70bb-b324-4385-9ee1-977d06950ca9"
      },
      "source": [
        "fit"
      ],
      "execution_count": null,
      "outputs": [
        {
          "output_type": "display_data",
          "data": {
            "text/plain": [
              "CART \n",
              "\n",
              "24001 samples\n",
              "   13 predictor\n",
              "    2 classes: 'no', 'yes' \n",
              "\n",
              "No pre-processing\n",
              "Resampling: Cross-Validated (5 fold, repeated 5 times) \n",
              "Summary of sample sizes: 19201, 19200, 19202, 19201, 19200, 19201, ... \n",
              "Resampling results across tuning parameters:\n",
              "\n",
              "  cp           Accuracy   Kappa    \n",
              "  0.007479862  0.9318195  0.3456364\n",
              "  0.009205984  0.9311362  0.3293208\n",
              "  0.030782509  0.9292113  0.1538480\n",
              "\n",
              "Accuracy was used to select the optimal model using the largest value.\n",
              "The final value used for the model was cp = 0.007479862."
            ]
          },
          "metadata": {
            "tags": []
          }
        }
      ]
    },
    {
      "cell_type": "code",
      "metadata": {
        "id": "x0x_i7IW_eLJ",
        "colab_type": "code",
        "colab": {}
      },
      "source": [
        "predictions <- predict(fit, test)"
      ],
      "execution_count": null,
      "outputs": []
    },
    {
      "cell_type": "code",
      "metadata": {
        "id": "n9zz9tuG_eLL",
        "colab_type": "code",
        "colab": {},
        "outputId": "8fe1b057-d9a7-4015-ab6a-b1e54dc03301"
      },
      "source": [
        "conf.mat <- table(test$y,predictions)\n",
        "acc <- sum(diag(conf.mat))/sum(conf.mat)\n",
        "acc"
      ],
      "execution_count": null,
      "outputs": [
        {
          "output_type": "display_data",
          "data": {
            "text/html": [
              "0.933870866929183"
            ],
            "text/latex": "0.933870866929183",
            "text/markdown": "0.933870866929183",
            "text/plain": [
              "[1] 0.9338709"
            ]
          },
          "metadata": {
            "tags": []
          }
        }
      ]
    }
  ]
}